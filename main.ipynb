{
 "cells": [
  {
   "cell_type": "code",
   "execution_count": 1,
   "metadata": {},
   "outputs": [
    {
     "name": "stdout",
     "output_type": "stream",
     "text": [
      "Something is happening before the function is called.\n",
      "Hello, world!\n",
      "Something is happening after the function is called.\n"
     ]
    }
   ],
   "source": [
    "# Step 1: Define a decorator function\n",
    "def my_decorator(func):\n",
    "    def wrapper():\n",
    "        print(\"Something is happening before the function is called.\")\n",
    "        func()  # Calling the original function\n",
    "        print(\"Something is happening after the function is called.\")\n",
    "    return wrapper  # Return the modified function\n",
    "\n",
    "# Step 2: Define a simple function\n",
    "def say_hello():\n",
    "    print(\"Hello, world!\")\n",
    "\n",
    "# Step 3: Apply the decorator manually\n",
    "decorated_function = my_decorator(say_hello)\n",
    "\n",
    "# Step 4: Call the decorated function\n",
    "decorated_function()\n"
   ]
  },
  {
   "cell_type": "code",
   "execution_count": 4,
   "metadata": {},
   "outputs": [
    {
     "name": "stdout",
     "output_type": "stream",
     "text": [
      "Something is happening before the function is called.\n",
      "Hello, world!\n",
      "Something is happening after the function is called.\n"
     ]
    }
   ],
   "source": [
    "# Using @decorator syntax\n",
    "@my_decorator\n",
    "def say_hello():\n",
    "    print(\"Hello, world!\")\n",
    "\n",
    "say_hello()  # No need to manually apply the decorator\n",
    "\n"
   ]
  },
  {
   "cell_type": "code",
   "execution_count": 5,
   "metadata": {},
   "outputs": [
    {
     "name": "stdout",
     "output_type": "stream",
     "text": [
      "Hello, Python!!\n",
      "Hi, Python!!\n"
     ]
    }
   ],
   "source": [
    "# Example Withou/t a Decorator (Repetitive Code)\n",
    "\n",
    "def say_hello():\n",
    "    result = \"Hello, world!\"\n",
    "    return result.replace(\"world\", \"Python!\")\n",
    "\n",
    "def say_hi():\n",
    "    result = \"Hi, world!\"\n",
    "    return result.replace(\"world\", \"Python!\")\n",
    "\n",
    "print(say_hello())  # Hello, Python!\n",
    "print(say_hi())  # Hi, Python!"
   ]
  },
  {
   "cell_type": "code",
   "execution_count": 7,
   "metadata": {},
   "outputs": [
    {
     "name": "stdout",
     "output_type": "stream",
     "text": [
      "Hello, Python!!\n",
      "Hi, Python!!\n"
     ]
    }
   ],
   "source": [
    "# Using a Decorator (Reusability)\n",
    "\n",
    "def modify_output(func):\n",
    "    def wrapper():\n",
    "        original_result = func()\n",
    "        return original_result.replace(\"world\", \"Python!\")\n",
    "    return wrapper\n",
    "\n",
    "@modify_output\n",
    "def say_hello():\n",
    "    return \"Hello, world!\"\n",
    "\n",
    "@modify_output\n",
    "def say_hi():\n",
    "    return \"Hi, world!\"\n",
    "\n",
    "print(say_hello())  # Hello, Python!\n",
    "print(say_hi())  # Hi, Python!"
   ]
  },
  {
   "cell_type": "code",
   "execution_count": null,
   "metadata": {},
   "outputs": [],
   "source": []
  }
 ],
 "metadata": {
  "kernelspec": {
   "display_name": "api",
   "language": "python",
   "name": "python3"
  },
  "language_info": {
   "codemirror_mode": {
    "name": "ipython",
    "version": 3
   },
   "file_extension": ".py",
   "mimetype": "text/x-python",
   "name": "python",
   "nbconvert_exporter": "python",
   "pygments_lexer": "ipython3",
   "version": "3.11.9"
  }
 },
 "nbformat": 4,
 "nbformat_minor": 2
}
